{
 "cells": [
  {
   "cell_type": "code",
   "execution_count": 54,
   "id": "d6ba1440",
   "metadata": {},
   "outputs": [],
   "source": [
    "import numpy as np # import numpy & Assign alias np"
   ]
  },
  {
   "cell_type": "code",
   "execution_count": 55,
   "id": "1c35ac09",
   "metadata": {},
   "outputs": [
    {
     "name": "stdout",
     "output_type": "stream",
     "text": [
      "[1 2 3 4 5]\n"
     ]
    }
   ],
   "source": [
    "a = np.array([1,2,3,4,5])    # Create Simple Array\n",
    "print(a)"
   ]
  },
  {
   "cell_type": "code",
   "execution_count": 63,
   "id": "6bd585ce",
   "metadata": {},
   "outputs": [
    {
     "name": "stdout",
     "output_type": "stream",
     "text": [
      "Shape of a : (5,)\n"
     ]
    }
   ],
   "source": [
    "print(\"Shape of a :\",format(a.shape))  # Retrurn the shape of array"
   ]
  },
  {
   "cell_type": "code",
   "execution_count": 61,
   "id": "255f936b",
   "metadata": {},
   "outputs": [
    {
     "name": "stdout",
     "output_type": "stream",
     "text": [
      "Size :  5\n",
      "dtype int64\n",
      "itemsize 8\n",
      "data <memory at 0x7fc9a33fb640>\n"
     ]
    }
   ],
   "source": [
    "print(\"Size : \",format(a.size))   # Return Size of Array\n",
    "print(f\"dtype {a.dtype}\")         # Return Datatype of Array\n",
    "print(f\"itemsize {a.itemsize}\")   # Return Itemsize of Array\n",
    "print(f\"data {a.data}\")           # Return data of Array"
   ]
  },
  {
   "cell_type": "code",
   "execution_count": 62,
   "id": "4fbcf9db",
   "metadata": {},
   "outputs": [
    {
     "name": "stdout",
     "output_type": "stream",
     "text": [
      "[2 3]\n"
     ]
    }
   ],
   "source": [
    "print(a[1:3])   # return array from index no 1 to 3"
   ]
  },
  {
   "cell_type": "code",
   "execution_count": 2,
   "id": "d97f4140",
   "metadata": {},
   "outputs": [
    {
     "name": "stdout",
     "output_type": "stream",
     "text": [
      "[1 2 3 4 5 6]\n",
      "[[9 8 7]\n",
      " [6 5 4]]\n"
     ]
    }
   ],
   "source": [
    "a=np.array([1,2,3,4,5,6])       # create Single Array\n",
    "b=np.array([[9,8,7],[6,5,4]])   # create Two Dimension Array\n",
    "print(a)                        # print Array\n",
    "print(b)"
   ]
  },
  {
   "cell_type": "code",
   "execution_count": 7,
   "id": "9193c682",
   "metadata": {},
   "outputs": [
    {
     "name": "stdout",
     "output_type": "stream",
     "text": [
      "[1 2 3 4]\n"
     ]
    }
   ],
   "source": [
    "slicedArr=a[:4]      # Slice the Array\n",
    "print(slicedArr)"
   ]
  },
  {
   "cell_type": "code",
   "execution_count": 8,
   "id": "820e0a16",
   "metadata": {},
   "outputs": [
    {
     "name": "stdout",
     "output_type": "stream",
     "text": [
      "21\n"
     ]
    }
   ],
   "source": [
    "print(a.sum())   # Return the Sum of Array"
   ]
  },
  {
   "cell_type": "code",
   "execution_count": 9,
   "id": "277c01af",
   "metadata": {},
   "outputs": [
    {
     "name": "stdout",
     "output_type": "stream",
     "text": [
      "[[19 22]\n",
      " [43 50]]\n"
     ]
    }
   ],
   "source": [
    "m1=np.array([[1,2],[3,4]])\n",
    "m2=np.array([[5,6],[7,8]])    # Used for Matrix Multiplication for 2 Two Dimension Array\n",
    "mul=np.dot(m1,m2)             # 1,2 * 5,6\n",
    "print(mul)                    # 3,4   7,8"
   ]
  },
  {
   "cell_type": "code",
   "execution_count": 10,
   "id": "9fcb1963",
   "metadata": {},
   "outputs": [
    {
     "name": "stdout",
     "output_type": "stream",
     "text": [
      "[[ 6  8]\n",
      " [10 12]]\n"
     ]
    }
   ],
   "source": [
    "addM=np.add(m1,m2)     # Used for Addition of Two Array\n",
    "print(addM)"
   ]
  },
  {
   "cell_type": "code",
   "execution_count": 11,
   "id": "89bb0754",
   "metadata": {},
   "outputs": [
    {
     "name": "stdout",
     "output_type": "stream",
     "text": [
      "[[4 4]\n",
      " [4 4]]\n"
     ]
    }
   ],
   "source": [
    "subM=np.subtract(m2,m1)     # Used for Substraction of Two Array\n",
    "print(subM)"
   ]
  },
  {
   "cell_type": "code",
   "execution_count": 13,
   "id": "10587d87",
   "metadata": {},
   "outputs": [
    {
     "name": "stdout",
     "output_type": "stream",
     "text": [
      "[[1 2 3]\n",
      " [4 5 6]\n",
      " [7 8 9]]\n"
     ]
    }
   ],
   "source": [
    "m3=np.array([1,2,3,4,5,6,7,8,9])\n",
    "re=m3.reshape(3,3)                 # Used for Reshape the Array into 3*3 \n",
    "print(re)"
   ]
  },
  {
   "cell_type": "code",
   "execution_count": 14,
   "id": "27bf89cd",
   "metadata": {},
   "outputs": [
    {
     "name": "stdout",
     "output_type": "stream",
     "text": [
      "Max m3 is :  9\n",
      "Min m3 is :  1\n",
      "Max in row is :  [3 6 9]\n",
      "Min in col is :  [1 2 3]\n"
     ]
    }
   ],
   "source": [
    "print(\"Max m3 is : \",m3.max())              # return Maximum Value from m3 Array\n",
    "print(\"Min m3 is : \",m3.min())              # return Minimum Value from m3 Array\n",
    "print(\"Max in row is : \",re.max(axis=1))    # return Maximum value from re Array as Row wise\n",
    "print(\"Min in col is : \",re.min(axis=0))    # return Minimum value from re Array as Column wise"
   ]
  },
  {
   "cell_type": "code",
   "execution_count": 16,
   "id": "c05b9707",
   "metadata": {},
   "outputs": [
    {
     "name": "stdout",
     "output_type": "stream",
     "text": [
      "[[2. 3. 5.]\n",
      " [6. 7. 8.]]\n",
      "21.16141667175323\n"
     ]
    }
   ],
   "source": [
    "m4=np.array([[4,9,25],[36,49,64]])\n",
    "print(np.sqrt(m4))                    # return Squre Root of Array m4\n",
    "print(np.std(m4))                     # return Standerd Deviation of Array m4"
   ]
  },
  {
   "cell_type": "code",
   "execution_count": 22,
   "id": "92654ec5",
   "metadata": {},
   "outputs": [
    {
     "name": "stdout",
     "output_type": "stream",
     "text": [
      "[[1 2]\n",
      " [3 4]]\n",
      "[1 2 3 4]\n"
     ]
    }
   ],
   "source": [
    "NAr=np.array([[1,2],[3,4]])\n",
    "print(np.vstack(NAr))    # Used to print the array in vertically \n",
    "print(np.hstack(NAr))    # Used to print the array in Horizontally"
   ]
  },
  {
   "cell_type": "code",
   "execution_count": 21,
   "id": "52948acd",
   "metadata": {},
   "outputs": [
    {
     "name": "stdout",
     "output_type": "stream",
     "text": [
      "[ 0.  2.  4.  6.  8. 10. 12. 14. 16. 18.]\n",
      "Data Type :  float64\n"
     ]
    }
   ],
   "source": [
    "arr=np.arange(0,20,2,float)         # Used to assign array from 0 to 20 in Between the gap is 2 as a Float  \n",
    "print(arr)\n",
    "print(\"Data Type : \",arr.dtype)     # Used to Display the Datatype of Array"
   ]
  },
  {
   "cell_type": "code",
   "execution_count": 28,
   "id": "bf0082da",
   "metadata": {},
   "outputs": [
    {
     "name": "stdout",
     "output_type": "stream",
     "text": [
      "[ 0. 10. 20.]\n"
     ]
    }
   ],
   "source": [
    "arr1=np.linspace(0,20,3)   # Create Array from 0 to 20 with 3 Values\n",
    "print(arr1)"
   ]
  },
  {
   "cell_type": "code",
   "execution_count": 48,
   "id": "dbabb8e7",
   "metadata": {},
   "outputs": [
    {
     "name": "stdout",
     "output_type": "stream",
     "text": [
      "[[1 3]\n",
      " [2 4]]\n"
     ]
    }
   ],
   "source": [
    "NAr=np.array([[1,2],[3,4]])      # Transform the Array\n",
    "h=np.vstack(NAr)                 # 1,2   -->  1,3\n",
    "ht=h.T                           # 3,4        2,4\n",
    "print(ht)"
   ]
  },
  {
   "cell_type": "code",
   "execution_count": 51,
   "id": "6d6fb3f4",
   "metadata": {},
   "outputs": [
    {
     "name": "stdout",
     "output_type": "stream",
     "text": [
      "Ele :  1\n",
      "Ele :  2\n",
      "Ele :  3\n",
      "Ele :  4\n"
     ]
    }
   ],
   "source": [
    "for i in np.nditer(ht):    # Print the Array Element One by One\n",
    "    print(\"Ele : \",i)"
   ]
  },
  {
   "cell_type": "code",
   "execution_count": 52,
   "id": "23b831d0",
   "metadata": {},
   "outputs": [
    {
     "name": "stdout",
     "output_type": "stream",
     "text": [
      "Sqrt :  [4.79583152 5.65685425 5.83095189 8.18535277]\n",
      "Exp :  [9.74480345e+09 7.89629602e+13 5.83461743e+14 1.25236317e+29]\n",
      "Sin :  [-0.8462204   0.55142668  0.52908269 -0.85551998]\n",
      "Cos :  [-0.53283302  0.83422336 -0.84857027 -0.5177698 ]\n",
      "Log :  [3.13549422 3.4657359  3.52636052 4.20469262]\n",
      "Sum :  156\n",
      "Std :  16.688319268278637\n"
     ]
    }
   ],
   "source": [
    "arr=np.array([23,32,34,67])\n",
    "print(\"Sqrt : \",np.sqrt(arr))    # return Squre root of each Array\n",
    "print(\"Exp : \",np.exp(arr))      # return Exponentials of each element\n",
    "print(\"Sin : \",np.sin(arr))      # return sin of each element\n",
    "print(\"Cos : \",np.cos(arr))      # return cosine of each element\n",
    "print(\"Log : \",np.log(arr))      # return logarithm of each element\n",
    "print(\"Sum : \",np.sum(arr))      # return sum of elements in array\n",
    "print(\"Std : \",np.std(arr))      # return standard deviation of array"
   ]
  },
  {
   "cell_type": "code",
   "execution_count": 53,
   "id": "7fd3020e",
   "metadata": {},
   "outputs": [
    {
     "name": "stdout",
     "output_type": "stream",
     "text": [
      "mean: 39.0\n",
      "mean: 33.0\n",
      "mean: ModeResult(mode=array([23]), count=array([1]))\n"
     ]
    }
   ],
   "source": [
    "from scipy import stats as st\n",
    "print(\"mean:\",np.mean(arr))     # return mean of array\n",
    "print(\"mean:\",np.median(arr))   # return median of array\n",
    "print(\"mean:\",st.mode(arr))     # return mode of array"
   ]
  },
  {
   "cell_type": "code",
   "execution_count": null,
   "id": "2d24213a",
   "metadata": {},
   "outputs": [],
   "source": []
  }
 ],
 "metadata": {
  "kernelspec": {
   "display_name": "Python 3 (ipykernel)",
   "language": "python",
   "name": "python3"
  },
  "language_info": {
   "codemirror_mode": {
    "name": "ipython",
    "version": 3
   },
   "file_extension": ".py",
   "mimetype": "text/x-python",
   "name": "python",
   "nbconvert_exporter": "python",
   "pygments_lexer": "ipython3",
   "version": "3.9.12"
  }
 },
 "nbformat": 4,
 "nbformat_minor": 5
}
